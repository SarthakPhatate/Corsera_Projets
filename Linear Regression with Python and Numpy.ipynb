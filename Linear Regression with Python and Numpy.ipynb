{
 "cells": [
  {
   "cell_type": "markdown",
   "metadata": {},
   "source": [
    "## Linear regression model without using any library"
   ]
  },
  {
   "cell_type": "code",
   "execution_count": 7,
   "metadata": {
    "ExecuteTime": {
     "end_time": "2020-04-29T13:11:54.527999Z",
     "start_time": "2020-04-29T13:11:54.516015Z"
    }
   },
   "outputs": [],
   "source": [
    "# importing required libraries\n",
    "import numpy as np\n",
    "import pandas as pd\n",
    "import matplotlib.pyplot as plt\n",
    "%matplotlib inline"
   ]
  },
  {
   "cell_type": "code",
   "execution_count": 50,
   "metadata": {
    "ExecuteTime": {
     "end_time": "2020-04-29T13:25:23.881064Z",
     "start_time": "2020-04-29T13:25:23.869079Z"
    }
   },
   "outputs": [],
   "source": [
    "# create a dummy dataset\n",
    "def generate_examples(num=1000):\n",
    "    W = [4.0, 3.0]\n",
    "    b = 1.0\n",
    "    \n",
    "    W = np.reshape(W, (2, 1))\n",
    "    \n",
    "    X = np.random.randn(num, 2)\n",
    "    Y = b + np.dot(X, W) + np.random.randn()\n",
    "    \n",
    "    Y = np.reshape(Y, (num, 1))\n",
    "    \n",
    "    return X, Y"
   ]
  },
  {
   "cell_type": "code",
   "execution_count": 51,
   "metadata": {
    "ExecuteTime": {
     "end_time": "2020-04-29T13:25:24.265290Z",
     "start_time": "2020-04-29T13:25:24.261297Z"
    }
   },
   "outputs": [],
   "source": [
    "# create the data \n",
    "X, Y = generate_examples() "
   ]
  },
  {
   "cell_type": "code",
   "execution_count": 54,
   "metadata": {
    "ExecuteTime": {
     "end_time": "2020-04-29T13:26:13.022124Z",
     "start_time": "2020-04-29T13:26:13.010137Z"
    }
   },
   "outputs": [
    {
     "name": "stdout",
     "output_type": "stream",
     "text": [
      "(1000, 2)\n",
      "(1000, 1)\n"
     ]
    }
   ],
   "source": [
    "# shape of the data\n",
    "print(X.shape)\n",
    "print(Y.shape)"
   ]
  },
  {
   "cell_type": "code",
   "execution_count": 52,
   "metadata": {
    "ExecuteTime": {
     "end_time": "2020-04-29T13:25:24.730123Z",
     "start_time": "2020-04-29T13:25:24.722141Z"
    }
   },
   "outputs": [],
   "source": [
    "# taking each columns\n",
    "col1 = X[: , :1]\n",
    "col2 = X[: , 1:2]"
   ]
  },
  {
   "cell_type": "code",
   "execution_count": 53,
   "metadata": {
    "ExecuteTime": {
     "end_time": "2020-04-29T13:25:25.603356Z",
     "start_time": "2020-04-29T13:25:25.216108Z"
    }
   },
   "outputs": [
    {
     "data": {
      "text/plain": [
       "Text(0.5, 1.0, 'column 2 VS Y')"
      ]
     },
     "execution_count": 53,
     "metadata": {},
     "output_type": "execute_result"
    },
    {
     "data": {
      "image/png": "[encoded data removed]",
      "text/plain": [
       "<Figure size 432x288 with 2 Axes>"
      ]
     },
     "metadata": {
      "needs_background": "light"
     },
     "output_type": "display_data"
    }
   ],
   "source": [
    "#plotting each colums and seeing the relationship with y\n",
    "ax =plt.subplot(1,2,1)\n",
    "plt.scatter(col1,Y)\n",
    "plt.title('column 1 VS Y')\n",
    "ax =plt.subplot(1,2,2)\n",
    "plt.scatter(col2,Y)\n",
    "plt.title('column 2 VS Y')"
   ]
  },
  {
   "cell_type": "code",
   "execution_count": 55,
   "metadata": {
    "ExecuteTime": {
     "end_time": "2020-04-29T13:26:26.391952Z",
     "start_time": "2020-04-29T13:26:26.367946Z"
    }
   },
   "outputs": [],
   "source": [
    "# Linear Regression model using  numpy\n",
    "class Model:\n",
    "    def __init__(self, num_features):\n",
    "        self.num_features = num_features\n",
    "        self.W = np.random.randn(num_features, 1)\n",
    "        self.b = np.random.randn()\n",
    "        \n",
    "    def forward_pass(self, X):\n",
    "        y = self.b + np.dot(X, self.W)\n",
    "        return y\n",
    "    \n",
    "    def compute_loss(self, y, y_true):\n",
    "        loss = np.sum(np.square(y - y_true))\n",
    "        return loss/(2*y.shape[0])\n",
    "    \n",
    "    def backward_pass(self, X, y_true, y_hat):\n",
    "        m = y_hat.shape[0]\n",
    "        db = np.sum(y_hat - y_true)/m\n",
    "        dW = np.sum(np.dot(np.transpose(y_hat - y_true), X), axis=0)/m\n",
    "        return dW, db\n",
    "    \n",
    "    def update_params(self, dW, db, lr):\n",
    "        self.W = self.W - lr * np.reshape(dW, (self.num_features, 1))\n",
    "        self.b = self.b - lr * db\n",
    "        \n",
    "    def train(self, x_train, y_train, iterations, lr):\n",
    "        losses = []\n",
    "        for i in range(iterations):\n",
    "            y_hat = self.forward_pass(x_train)\n",
    "            dW, db = self.backward_pass(x_train, y_train, y_hat)\n",
    "            self.update_params(dW, db, lr)\n",
    "            loss = self.compute_loss(y_hat, y_train)\n",
    "            losses.append(loss)\n",
    "            if i % 10 == 0:\n",
    "                print('Iter: {}, Current loss: {:.4f}'.format(i, loss))\n",
    "        return losses\n",
    "    \n",
    "    def predict(self,X):\n",
    "        y_hat = self.forward_pass(X)\n",
    "        return y_hat"
   ]
  },
  {
   "cell_type": "code",
   "execution_count": 58,
   "metadata": {
    "ExecuteTime": {
     "end_time": "2020-04-29T13:29:47.094073Z",
     "start_time": "2020-04-29T13:29:47.082053Z"
    }
   },
   "outputs": [],
   "source": [
    "#splitting the data into traning and testing data with jst simple slicing technique\n",
    "x_train,y_train,x_test,y_test = X[:800,:],Y[:800,:],X[800:,:],Y[800:,:]"
   ]
  },
  {
   "cell_type": "code",
   "execution_count": 59,
   "metadata": {
    "ExecuteTime": {
     "end_time": "2020-04-29T13:29:47.701418Z",
     "start_time": "2020-04-29T13:29:47.693390Z"
    }
   },
   "outputs": [
    {
     "name": "stdout",
     "output_type": "stream",
     "text": [
      "(800, 2) (800, 1)\n",
      "(200, 2) (200, 1)\n"
     ]
    }
   ],
   "source": [
    "# seeing the shape of splitted data\n",
    "print(x_train.shape,y_train.shape)\n",
    "print(x_test.shape,y_test.shape)"
   ]
  },
  {
   "cell_type": "code",
   "execution_count": 65,
   "metadata": {
    "ExecuteTime": {
     "end_time": "2020-04-29T13:36:28.931842Z",
     "start_time": "2020-04-29T13:36:28.656883Z"
    }
   },
   "outputs": [
    {
     "name": "stdout",
     "output_type": "stream",
     "text": [
      "Iter: 0, Current loss: 11.0539\n",
      "Iter: 10, Current loss: 9.1494\n",
      "Iter: 20, Current loss: 7.5753\n",
      "Iter: 30, Current loss: 6.2740\n",
      "Iter: 40, Current loss: 5.1977\n",
      "Iter: 50, Current loss: 4.3073\n",
      "Iter: 60, Current loss: 3.5705\n",
      "Iter: 70, Current loss: 2.9605\n",
      "Iter: 80, Current loss: 2.4553\n",
      "Iter: 90, Current loss: 2.0369\n",
      "Iter: 100, Current loss: 1.6902\n",
      "Iter: 110, Current loss: 1.4029\n",
      "Iter: 120, Current loss: 1.1646\n",
      "Iter: 130, Current loss: 0.9671\n",
      "Iter: 140, Current loss: 0.8032\n",
      "Iter: 150, Current loss: 0.6673\n",
      "Iter: 160, Current loss: 0.5544\n",
      "Iter: 170, Current loss: 0.4608\n",
      "Iter: 180, Current loss: 0.3830\n",
      "Iter: 190, Current loss: 0.3184\n",
      "Iter: 200, Current loss: 0.2648\n",
      "Iter: 210, Current loss: 0.2202\n",
      "Iter: 220, Current loss: 0.1832\n",
      "Iter: 230, Current loss: 0.1524\n",
      "Iter: 240, Current loss: 0.1268\n",
      "Iter: 250, Current loss: 0.1055\n",
      "Iter: 260, Current loss: 0.0878\n",
      "Iter: 270, Current loss: 0.0731\n",
      "Iter: 280, Current loss: 0.0609\n",
      "Iter: 290, Current loss: 0.0507\n",
      "Iter: 300, Current loss: 0.0422\n",
      "Iter: 310, Current loss: 0.0352\n",
      "Iter: 320, Current loss: 0.0293\n",
      "Iter: 330, Current loss: 0.0244\n",
      "Iter: 340, Current loss: 0.0203\n",
      "Iter: 350, Current loss: 0.0169\n",
      "Iter: 360, Current loss: 0.0141\n",
      "Iter: 370, Current loss: 0.0118\n",
      "Iter: 380, Current loss: 0.0098\n",
      "Iter: 390, Current loss: 0.0082\n"
     ]
    },
    {
     "data": {
      "image/png": "[encoded data removed]",
      "text/plain": [
       "<Figure size 432x288 with 1 Axes>"
      ]
     },
     "metadata": {
      "needs_background": "light"
     },
     "output_type": "display_data"
    }
   ],
   "source": [
    "# traning the model calculating the loss\n",
    "model = Model(2)\n",
    "losses = model.train(x_train, y_train, 400, 0.01)\n",
    "plt.plot(range(400), losses);"
   ]
  },
  {
   "cell_type": "code",
   "execution_count": 66,
   "metadata": {
    "ExecuteTime": {
     "end_time": "2020-04-29T13:36:33.185563Z",
     "start_time": "2020-04-29T13:36:33.173577Z"
    }
   },
   "outputs": [
    {
     "data": {
      "text/plain": [
       "99.93833314112895"
      ]
     },
     "execution_count": 66,
     "metadata": {},
     "output_type": "execute_result"
    }
   ],
   "source": [
    "# Calculatin the r2_score on testing data\n",
    "from sklearn.metrics import r2_score\n",
    "r2_score(y_test, model.predict(x_test)) * 100"
   ]
  }
 ],
 "metadata": {
  "kernelspec": {
   "display_name": "Python 3",
   "language": "python",
   "name": "python3"
  },
  "language_info": {
   "codemirror_mode": {
    "name": "ipython",
    "version": 3
   },
   "file_extension": ".py",
   "mimetype": "text/x-python",
   "name": "python",
   "nbconvert_exporter": "python",
   "pygments_lexer": "ipython3",
   "version": "3.7.3"
  }
 },
 "nbformat": 4,
 "nbformat_minor": 4
}
